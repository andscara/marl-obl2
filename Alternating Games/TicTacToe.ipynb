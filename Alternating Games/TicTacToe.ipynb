{
 "cells": [
  {
   "cell_type": "code",
   "execution_count": 6,
   "metadata": {},
   "outputs": [],
   "source": [
    "from games.tictactoe.tictactoe import TicTacToe\n",
    "from base.agent import Agent\n",
    "from agents.agent_random import RandomAgent\n",
    "from agents.mcts import MonteCarloTreeSearch\n",
    "from agents.minimax import MiniMax\n",
    "import numpy as np\n",
    "from collections import defaultdict"
   ]
  },
  {
   "cell_type": "code",
   "execution_count": 7,
   "metadata": {},
   "outputs": [],
   "source": [
    "game = TicTacToe(render_mode='')"
   ]
  },
  {
   "cell_type": "code",
   "execution_count": 8,
   "metadata": {},
   "outputs": [],
   "source": [
    "def play(agent1: Agent, agent2: Agent, num_games: int):\n",
    "    rewards = {\n",
    "        agent1.agent: [],\n",
    "        agent2.agent: []\n",
    "    }\n",
    "\n",
    "    players = {\n",
    "        agent1.agent: agent1,\n",
    "        agent2.agent: agent2\n",
    "    } \n",
    "\n",
    "    for i in range(num_games):\n",
    "        game.reset()\n",
    "\n",
    "        while not game.terminated():\n",
    "            agent = game.agent_selection\n",
    "            action = players[agent].action()\n",
    "            game.step(action)\n",
    "        for agent in game.agents:\n",
    "            rewards[agent].append(game.reward(agent))\n",
    "    \n",
    "    for agent in game.agents:\n",
    "        print(f\"Agent {agent} ({players[agent].__class__.__name__}) average reward: {np.mean(rewards[agent])} over {num_games} games\")\n",
    "        print(f\"Agent {agent} ({players[agent].__class__.__name__}) rewards: {rewards[agent]}\")\n",
    "\n",
    "    return rewards"
   ]
  },
  {
   "cell_type": "markdown",
   "metadata": {},
   "source": [
    "### Random vs Minmax"
   ]
  },
  {
   "cell_type": "code",
   "execution_count": 16,
   "metadata": {},
   "outputs": [
    {
     "name": "stdout",
     "output_type": "stream",
     "text": [
      "Agent X (RandomAgent) average reward: -0.6 over 10 games\n",
      "Agent X (RandomAgent) rewards: [-1, 0, 0, 0, -1, -1, -1, -1, -1, 0]\n",
      "Agent O (MiniMax) average reward: 0.6 over 10 games\n",
      "Agent O (MiniMax) rewards: [1, 0, 0, 0, 1, 1, 1, 1, 1, 0]\n"
     ]
    }
   ],
   "source": [
    "_ = play(RandomAgent(game=game, agent=game.agents[0]), MiniMax(game=game, agent=game.agents[1], depth=4), num_games=10)"
   ]
  },
  {
   "cell_type": "code",
   "execution_count": 17,
   "metadata": {},
   "outputs": [
    {
     "name": "stdout",
     "output_type": "stream",
     "text": [
      "Depth: 1\n",
      "Agent X (RandomAgent) average reward: -0.46 over 50 games\n",
      "Agent X (RandomAgent) rewards: [-1, -1, -1, -1, 0, -1, -1, 1, 0, -1, -1, 0, -1, 0, 1, -1, 1, -1, 0, 0, -1, -1, -1, -1, -1, 0, 0, -1, 1, 1, -1, -1, -1, -1, -1, 1, -1, 1, -1, 0, -1, 0, -1, -1, -1, 1, -1, -1, 0, -1]\n",
      "Agent O (MiniMax) average reward: 0.46 over 50 games\n",
      "Agent O (MiniMax) rewards: [1, 1, 1, 1, 0, 1, 1, -1, 0, 1, 1, 0, 1, 0, -1, 1, -1, 1, 0, 0, 1, 1, 1, 1, 1, 0, 0, 1, -1, -1, 1, 1, 1, 1, 1, -1, 1, -1, 1, 0, 1, 0, 1, 1, 1, -1, 1, 1, 0, 1]\n",
      "Depth: 2\n",
      "Agent X (RandomAgent) average reward: -0.74 over 50 games\n",
      "Agent X (RandomAgent) rewards: [-1, -1, -1, -1, -1, -1, -1, -1, -1, -1, 0, -1, -1, -1, -1, -1, -1, -1, -1, -1, -1, 0, -1, 0, -1, -1, -1, -1, -1, 0, -1, 0, -1, -1, -1, 0, 0, -1, 1, -1, 0, -1, -1, 0, -1, -1, -1, 0, 0, -1]\n",
      "Agent O (MiniMax) average reward: 0.74 over 50 games\n",
      "Agent O (MiniMax) rewards: [1, 1, 1, 1, 1, 1, 1, 1, 1, 1, 0, 1, 1, 1, 1, 1, 1, 1, 1, 1, 1, 0, 1, 0, 1, 1, 1, 1, 1, 0, 1, 0, 1, 1, 1, 0, 0, 1, -1, 1, 0, 1, 1, 0, 1, 1, 1, 0, 0, 1]\n",
      "Depth: 3\n",
      "Agent X (RandomAgent) average reward: -0.78 over 50 games\n",
      "Agent X (RandomAgent) rewards: [-1, 0, 0, -1, -1, 1, -1, 0, -1, -1, -1, -1, -1, -1, -1, -1, -1, -1, -1, -1, 0, -1, -1, -1, 0, -1, -1, -1, 1, -1, -1, -1, -1, -1, -1, -1, -1, -1, -1, -1, -1, -1, -1, -1, -1, -1, 1, -1, -1, -1]\n",
      "Agent O (MiniMax) average reward: 0.78 over 50 games\n",
      "Agent O (MiniMax) rewards: [1, 0, 0, 1, 1, -1, 1, 0, 1, 1, 1, 1, 1, 1, 1, 1, 1, 1, 1, 1, 0, 1, 1, 1, 0, 1, 1, 1, -1, 1, 1, 1, 1, 1, 1, 1, 1, 1, 1, 1, 1, 1, 1, 1, 1, 1, -1, 1, 1, 1]\n",
      "Depth: 4\n",
      "Agent X (RandomAgent) average reward: -0.8 over 50 games\n",
      "Agent X (RandomAgent) rewards: [0, -1, -1, 1, -1, -1, -1, -1, 0, 0, -1, -1, -1, 1, -1, -1, -1, -1, 1, -1, -1, -1, -1, 0, -1, -1, -1, -1, -1, -1, -1, -1, -1, -1, -1, -1, -1, -1, -1, -1, -1, -1, -1, -1, -1, -1, -1, -1, -1, -1]\n",
      "Agent O (MiniMax) average reward: 0.8 over 50 games\n",
      "Agent O (MiniMax) rewards: [0, 1, 1, -1, 1, 1, 1, 1, 0, 0, 1, 1, 1, -1, 1, 1, 1, 1, -1, 1, 1, 1, 1, 0, 1, 1, 1, 1, 1, 1, 1, 1, 1, 1, 1, 1, 1, 1, 1, 1, 1, 1, 1, 1, 1, 1, 1, 1, 1, 1]\n",
      "Depth: 5\n",
      "Agent X (RandomAgent) average reward: -0.68 over 50 games\n",
      "Agent X (RandomAgent) rewards: [-1, 0, -1, -1, -1, -1, -1, -1, -1, -1, -1, 0, -1, -1, 0, -1, -1, -1, -1, 0, -1, -1, -1, 0, -1, 1, -1, -1, -1, 1, -1, -1, -1, 0, -1, 1, 0, -1, -1, -1, -1, -1, 0, -1, -1, -1, -1, 0, -1, 0]\n",
      "Agent O (MiniMax) average reward: 0.68 over 50 games\n",
      "Agent O (MiniMax) rewards: [1, 0, 1, 1, 1, 1, 1, 1, 1, 1, 1, 0, 1, 1, 0, 1, 1, 1, 1, 0, 1, 1, 1, 0, 1, -1, 1, 1, 1, -1, 1, 1, 1, 0, 1, -1, 0, 1, 1, 1, 1, 1, 0, 1, 1, 1, 1, 0, 1, 0]\n",
      "Depth: 6\n",
      "Agent X (RandomAgent) average reward: -0.88 over 50 games\n",
      "Agent X (RandomAgent) rewards: [-1, -1, -1, -1, -1, -1, -1, -1, -1, -1, -1, -1, 0, -1, -1, -1, -1, -1, -1, -1, -1, -1, -1, -1, -1, -1, -1, -1, -1, -1, -1, -1, 0, -1, -1, -1, -1, -1, -1, -1, -1, 0, 0, 0, -1, -1, -1, 0, -1, -1]\n",
      "Agent O (MiniMax) average reward: 0.88 over 50 games\n",
      "Agent O (MiniMax) rewards: [1, 1, 1, 1, 1, 1, 1, 1, 1, 1, 1, 1, 0, 1, 1, 1, 1, 1, 1, 1, 1, 1, 1, 1, 1, 1, 1, 1, 1, 1, 1, 1, 0, 1, 1, 1, 1, 1, 1, 1, 1, 0, 0, 0, 1, 1, 1, 0, 1, 1]\n",
      "Depth: 7\n",
      "Agent X (RandomAgent) average reward: -0.8 over 50 games\n",
      "Agent X (RandomAgent) rewards: [-1, -1, 0, -1, -1, 0, -1, -1, -1, -1, -1, -1, -1, -1, -1, 0, -1, -1, -1, -1, -1, -1, 0, 0, -1, -1, -1, 0, -1, -1, 0, -1, -1, -1, -1, -1, -1, -1, -1, -1, 0, -1, -1, -1, 0, -1, -1, -1, -1, 0]\n",
      "Agent O (MiniMax) average reward: 0.8 over 50 games\n",
      "Agent O (MiniMax) rewards: [1, 1, 0, 1, 1, 0, 1, 1, 1, 1, 1, 1, 1, 1, 1, 0, 1, 1, 1, 1, 1, 1, 0, 0, 1, 1, 1, 0, 1, 1, 0, 1, 1, 1, 1, 1, 1, 1, 1, 1, 0, 1, 1, 1, 0, 1, 1, 1, 1, 0]\n",
      "Depth: 8\n",
      "Agent X (RandomAgent) average reward: -0.86 over 50 games\n",
      "Agent X (RandomAgent) rewards: [-1, -1, -1, 0, -1, -1, -1, -1, 0, -1, -1, -1, -1, -1, -1, -1, -1, -1, -1, -1, -1, -1, -1, 0, -1, -1, -1, -1, -1, -1, -1, -1, -1, 0, -1, 0, -1, -1, -1, -1, -1, -1, -1, -1, 0, -1, -1, 0, -1, -1]\n",
      "Agent O (MiniMax) average reward: 0.86 over 50 games\n",
      "Agent O (MiniMax) rewards: [1, 1, 1, 0, 1, 1, 1, 1, 0, 1, 1, 1, 1, 1, 1, 1, 1, 1, 1, 1, 1, 1, 1, 0, 1, 1, 1, 1, 1, 1, 1, 1, 1, 0, 1, 0, 1, 1, 1, 1, 1, 1, 1, 1, 0, 1, 1, 0, 1, 1]\n"
     ]
    }
   ],
   "source": [
    "depth_rewards = {agent: [] for agent in game.agents}\n",
    "for depth in range(1, 9):\n",
    "    print(f\"Depth: {depth}\")\n",
    "    rewards = play(RandomAgent(game=game, agent=game.agents[0]), MiniMax(game=game, agent=game.agents[1], depth=depth), num_games=50)\n",
    "    for agent in game.agents:\n",
    "        depth_rewards[agent].append(np.mean(rewards[agent]))"
   ]
  },
  {
   "cell_type": "code",
   "execution_count": 18,
   "metadata": {},
   "outputs": [
    {
     "data": {
      "text/plain": [
       "{'X': [-0.46, -0.74, -0.78, -0.8, -0.68, -0.88, -0.8, -0.86],\n",
       " 'O': [0.46, 0.74, 0.78, 0.8, 0.68, 0.88, 0.8, 0.86]}"
      ]
     },
     "execution_count": 18,
     "metadata": {},
     "output_type": "execute_result"
    }
   ],
   "source": [
    "depth_rewards"
   ]
  },
  {
   "cell_type": "code",
   "execution_count": 22,
   "metadata": {},
   "outputs": [
    {
     "data": {
      "text/plain": [
       "[<matplotlib.lines.Line2D at 0x233a0bc22d0>]"
      ]
     },
     "execution_count": 22,
     "metadata": {},
     "output_type": "execute_result"
    },
    {
     "data": {
      "image/png": "[encoded data removed]",
      "text/plain": [
       "<Figure size 640x480 with 1 Axes>"
      ]
     },
     "metadata": {},
     "output_type": "display_data"
    }
   ],
   "source": [
    "import matplotlib.pyplot as plt\n",
    "\n",
    "plt.plot(depth_rewards['O'])"
   ]
  },
  {
   "cell_type": "markdown",
   "metadata": {},
   "source": [
    "### Random vs MCTS"
   ]
  },
  {
   "cell_type": "code",
   "execution_count": 20,
   "metadata": {},
   "outputs": [
    {
     "name": "stdout",
     "output_type": "stream",
     "text": [
      "Agent X (RandomAgent) average reward: -0.9 over 10 games\n",
      "Agent X (RandomAgent) rewards: [-1, -1, -1, -1, -1, -1, -1, -1, 0, -1]\n",
      "Agent O (MonteCarloTreeSearch) average reward: 0.9 over 10 games\n",
      "Agent O (MonteCarloTreeSearch) rewards: [1, 1, 1, 1, 1, 1, 1, 1, 0, 1]\n"
     ]
    },
    {
     "data": {
      "text/plain": [
       "{'X': [-1, -1, -1, -1, -1, -1, -1, -1, 0, -1],\n",
       " 'O': [1, 1, 1, 1, 1, 1, 1, 1, 0, 1]}"
      ]
     },
     "execution_count": 20,
     "metadata": {},
     "output_type": "execute_result"
    }
   ],
   "source": [
    "play(\n",
    "    RandomAgent(game=game, agent=game.agents[0]),\n",
    "    MonteCarloTreeSearch(game=game, agent=game.agents[1], simulations=100, rollouts=5, max_depth=4),\n",
    "    num_games=10\n",
    ")"
   ]
  },
  {
   "cell_type": "code",
   "execution_count": 21,
   "metadata": {},
   "outputs": [
    {
     "name": "stdout",
     "output_type": "stream",
     "text": [
      "Agent X (RandomAgent) average reward: -0.8 over 10 games\n",
      "Agent X (RandomAgent) rewards: [-1, -1, 0, -1, -1, 0, -1, -1, -1, -1]\n",
      "Agent O (MiniMax) average reward: 0.8 over 10 games\n",
      "Agent O (MiniMax) rewards: [1, 1, 0, 1, 1, 0, 1, 1, 1, 1]\n"
     ]
    }
   ],
   "source": [
    "_ = play(RandomAgent(game=game, agent=game.agents[0]), MiniMax(game=game, agent=game.agents[1], depth=4), num_games=10)"
   ]
  }
 ],
 "metadata": {
  "kernelspec": {
   "display_name": "pettingzoo_games",
   "language": "python",
   "name": "python3"
  },
  "language_info": {
   "codemirror_mode": {
    "name": "ipython",
    "version": 3
   },
   "file_extension": ".py",
   "mimetype": "text/x-python",
   "name": "python",
   "nbconvert_exporter": "python",
   "pygments_lexer": "ipython3",
   "version": "3.11.11"
  },
  "orig_nbformat": 4
 },
 "nbformat": 4,
 "nbformat_minor": 2
}
