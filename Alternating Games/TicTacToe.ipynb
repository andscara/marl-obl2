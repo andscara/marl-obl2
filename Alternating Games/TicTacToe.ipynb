{
 "cells": [
  {
   "cell_type": "code",
   "execution_count": 1,
   "metadata": {},
   "outputs": [],
   "source": [
    "from games.tictactoe.tictactoe import TicTacToe\n",
    "from base.agent import Agent\n",
    "from agents.agent_random import RandomAgent\n",
    "from agents.mcts import MonteCarloTreeSearch\n",
    "from agents.minimax import MiniMax\n",
    "import numpy as np\n",
    "from collections import defaultdict"
   ]
  },
  {
   "cell_type": "code",
   "execution_count": 2,
   "metadata": {},
   "outputs": [],
   "source": [
    "game = TicTacToe(render_mode='')"
   ]
  },
  {
   "cell_type": "code",
   "execution_count": 3,
   "metadata": {},
   "outputs": [],
   "source": [
    "def play(agent1: Agent, agent2: Agent, num_games: int):\n",
    "    rewards = {\n",
    "        agent1.agent: [],\n",
    "        agent2.agent: []\n",
    "    }\n",
    "\n",
    "    players = {\n",
    "        agent1.agent: agent1,\n",
    "        agent2.agent: agent2\n",
    "    } \n",
    "\n",
    "    for i in range(num_games):\n",
    "        game.reset()\n",
    "\n",
    "        while not game.terminated():\n",
    "            agent = game.agent_selection\n",
    "            action = players[agent].action()\n",
    "            game.step(action)\n",
    "        for agent in game.agents:\n",
    "            rewards[agent].append(game.reward(agent))\n",
    "    \n",
    "    for agent in game.agents:\n",
    "        print(f\"Agent {agent} ({players[agent].__class__.__name__}) average reward: {np.mean(rewards[agent])} over {num_games} games\")\n",
    "        print(f\"Agent {agent} ({players[agent].__class__.__name__}) rewards: {rewards[agent]}\")"
   ]
  },
  {
   "cell_type": "markdown",
   "metadata": {},
   "source": [
    "### Random vs Minmax"
   ]
  },
  {
   "cell_type": "code",
   "execution_count": 18,
   "metadata": {},
   "outputs": [
    {
     "name": "stdout",
     "output_type": "stream",
     "text": [
      "Agent X (RandomAgent) average reward: -0.6 over 10 games\n",
      "Agent X (RandomAgent) rewards: [0, -1, -1, -1, -1, -1, 0, -1, -1, 1]\n",
      "Agent O (MiniMax) average reward: 0.6 over 10 games\n",
      "Agent O (MiniMax) rewards: [0, 1, 1, 1, 1, 1, 0, 1, 1, -1]\n"
     ]
    }
   ],
   "source": [
    "play(RandomAgent(game=game, agent=game.agents[0]), MiniMax(game=game, agent=game.agents[1], depth=4), num_games=10)"
   ]
  },
  {
   "cell_type": "markdown",
   "metadata": {},
   "source": [
    "### Random vs MCTS"
   ]
  },
  {
   "cell_type": "code",
   "execution_count": 4,
   "metadata": {},
   "outputs": [
    {
     "name": "stdout",
     "output_type": "stream",
     "text": [
      "Agent X (RandomAgent) average reward: -1.0 over 10 games\n",
      "Agent X (RandomAgent) rewards: [-1, -1, -1, -1, -1, -1, -1, -1, -1, -1]\n",
      "Agent O (MonteCarloTreeSearch) average reward: 1.0 over 10 games\n",
      "Agent O (MonteCarloTreeSearch) rewards: [1, 1, 1, 1, 1, 1, 1, 1, 1, 1]\n"
     ]
    }
   ],
   "source": [
    "play(\n",
    "    RandomAgent(game=game, agent=game.agents[0]),\n",
    "    MonteCarloTreeSearch(game=game, agent=game.agents[1], simulations=100, rollouts=5, max_depth=4),\n",
    "    num_games=10\n",
    ")"
   ]
  }
 ],
 "metadata": {
  "kernelspec": {
   "display_name": ".venv",
   "language": "python",
   "name": "python3"
  },
  "language_info": {
   "codemirror_mode": {
    "name": "ipython",
    "version": 3
   },
   "file_extension": ".py",
   "mimetype": "text/x-python",
   "name": "python",
   "nbconvert_exporter": "python",
   "pygments_lexer": "ipython3",
   "version": "3.11.9"
  },
  "orig_nbformat": 4
 },
 "nbformat": 4,
 "nbformat_minor": 2
}
